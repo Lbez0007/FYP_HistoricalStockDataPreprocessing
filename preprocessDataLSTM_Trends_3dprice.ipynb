{
 "cells": [
  {
   "cell_type": "markdown",
   "metadata": {},
   "source": [
    "# Import Packages"
   ]
  },
  {
   "cell_type": "code",
   "execution_count": null,
   "metadata": {
    "pycharm": {
     "name": "#%%\n"
    }
   },
   "outputs": [],
   "source": [
    "import numpy as np\n",
    "import pandas as pd\n",
    "import glob\n",
    "import os"
   ]
  },
  {
   "cell_type": "markdown",
   "metadata": {},
   "source": [
    "# Define Dynamic Parameters"
   ]
  },
  {
   "cell_type": "code",
   "execution_count": null,
   "metadata": {
    "pycharm": {
     "name": "#%%\n"
    },
    "tags": [
     "parameters"
    ]
   },
   "outputs": [],
   "source": [
    "trend_days = 3"
   ]
  },
  {
   "cell_type": "markdown",
   "metadata": {},
   "source": [
    "# Import CSVs"
   ]
  },
  {
   "cell_type": "code",
   "execution_count": null,
   "metadata": {
    "pycharm": {
     "name": "#%%\n"
    }
   },
   "outputs": [],
   "source": [
    "# Current Path\n",
    "ROOT_DIR = os.path.abspath(os.curdir)\n",
    "path = ROOT_DIR + '/financial_data'\n",
    "print(path)\n",
    "\n",
    "csvfiles = glob.glob(path + \"/*.csv\")\n",
    "\n",
    "# Creating a dataframe for each CSV file\n",
    "dfs = [pd.read_csv(file) for file in csvfiles]"
   ]
  },
  {
   "cell_type": "markdown",
   "metadata": {},
   "source": [
    "# New Dataframe"
   ]
  },
  {
   "cell_type": "code",
   "execution_count": null,
   "metadata": {
    "pycharm": {
     "name": "#%%\n"
    }
   },
   "outputs": [],
   "source": [
    "processed_df_coll = {}"
   ]
  },
  {
   "cell_type": "markdown",
   "metadata": {},
   "source": [
    "# Pre-Process"
   ]
  },
  {
   "cell_type": "code",
   "execution_count": null,
   "metadata": {
    "pycharm": {
     "name": "#%%\n"
    }
   },
   "outputs": [],
   "source": [
    "prev_row = None\n",
    "# Up to 0.2% deviation from close price from day before is considered Neutral movement\n",
    "neutral_percentage = 0.002\n",
    "\n",
    "for df in dfs:\n",
    "    processed_df = pd.DataFrame(columns = ['Date', 'OpenPrice', 'ClosePrice', 'Trend',\n",
    "                                           'VolumeTrend', 'Volatility', 'PriceDirection'])\n",
    "\n",
    "    # Creating additional feature columns for each dataframe\n",
    "    iterables = df.itertuples(index=True, name='Pandas')\n",
    "    n = df.columns.get_loc('Name') # Name column in df\n",
    "    df_name = df.iat[1, n] # Name of equity/etf\n",
    "\n",
    "    print(df_name)\n",
    "\n",
    "    # Iterating all rows in dataframe\n",
    "    # Starting from trend_days - to allow for trends going back to trend_days days\n",
    "    # Ending at end day - 2 to allow for day + 2 classification label\n",
    "    for i in range(trend_days, len(df) - 2 ):\n",
    "        open = df.columns.get_loc('Open')\n",
    "        close = df.columns.get_loc('Close')\n",
    "        volume = df.columns.get_loc('Volume')\n",
    "        df_date = df.columns.get_loc('Date')\n",
    "\n",
    "        # Prices per row\n",
    "        open_price = df.iat[i-1, open]\n",
    "        close_price = df.iat[i-1, close]\n",
    "\n",
    "        # Price Trend Handling\n",
    "        price_today = df.iat[i + 0, close]\n",
    "        price_tomorrow = df.iat[i + 1, close]\n",
    "        price_2days_after = df.iat[i + 2, close]\n",
    "\n",
    "        close_price_3d = (price_today + price_tomorrow + price_2days_after)/3\n",
    "        prev_close_price = df.iat[i - 1, close]\n",
    "        price_change = close_price_3d - prev_close_price\n",
    "\n",
    "        if price_change > (close_price_3d * neutral_percentage):\n",
    "            direction = 'Positive'\n",
    "        elif price_change < 0 and abs(price_change) > (close_price_3d * neutral_percentage):\n",
    "            direction = 'Negative'\n",
    "        else:\n",
    "            direction = 'Neutral'\n",
    "\n",
    "        # Price Difference Handling\n",
    "        pds = {}\n",
    "        initial_close = df.iat[i - (trend_days + 1), close]\n",
    "\n",
    "        for d in range(1, trend_days + 1):\n",
    "            key = \"d\"+ str(d) +\"_pd\"\n",
    "            value = df.iat[i - d, close] - initial_close\n",
    "            pds[key] = value\n",
    "\n",
    "        # Volume Difference Handling\n",
    "        vpds = {}\n",
    "        initial_vol = df.iat[i - (trend_days + 1), volume] + 1\n",
    "\n",
    "        for vd in range(1, trend_days + 1):\n",
    "            key = \"vd\"+ str(vd) +\"_pd\"\n",
    "            value = (df.iat[i - vd, volume] / initial_vol)\n",
    "            vpds[key] = value\n",
    "\n",
    "        date_ts = df.iat[i,df_date]\n",
    "\n",
    "        # volatility of prices window\n",
    "        volatility = np.std(list(pds.values()))\n",
    "\n",
    "        # finding trends of close and volume in terms of gradient (slope)\n",
    "        polyfit_x_axis = list(range(0, trend_days))\n",
    "        test_list = list(pds.values())\n",
    "        slope, intercept = np.polyfit(polyfit_x_axis, list(pds.values()), 1)\n",
    "        slopeVol, interceptVol = np.polyfit(polyfit_x_axis, list(vpds.values()), 1)\n",
    "\n",
    "        new_row = {'Date':date_ts, 'OpenPrice':open_price, 'ClosePrice':close_price,\n",
    "                   'Trend':slope, 'VolumeTrend':slopeVol, 'Volatility':volatility,\n",
    "                   'PriceDirection':direction}\n",
    "\n",
    "        #append row to the dataframe\n",
    "        processed_df = processed_df.append(new_row, ignore_index=True)\n",
    "\n",
    "    print(processed_df)\n",
    "    processed_df_coll[df_name] = processed_df\n"
   ]
  },
  {
   "cell_type": "markdown",
   "metadata": {},
   "source": [
    "# Data Export"
   ]
  },
  {
   "cell_type": "code",
   "execution_count": null,
   "metadata": {
    "pycharm": {
     "name": "#%%\n"
    }
   },
   "outputs": [],
   "source": [
    "for key, df in processed_df_coll.items():\n",
    "    df.to_csv(ROOT_DIR+'\\\\LSTM\\\\'+key+\"_\"+ str(trend_days) + \"dtrend.csv\", index=False)\n",
    "\n",
    "print(\"Export Complete!\")"
   ]
  },
  {
   "cell_type": "code",
   "execution_count": null,
   "metadata": {
    "pycharm": {
     "name": "#%%\n"
    }
   },
   "outputs": [],
   "source": []
  }
 ],
 "metadata": {
  "celltoolbar": "Tags",
  "kernelspec": {
   "display_name": "Python 3",
   "language": "python",
   "name": "python3"
  },
  "language_info": {
   "codemirror_mode": {
    "name": "ipython",
    "version": 3
   },
   "file_extension": ".py",
   "mimetype": "text/x-python",
   "name": "python",
   "nbconvert_exporter": "python",
   "pygments_lexer": "ipython3",
   "version": "3.7.10"
  }
 },
 "nbformat": 4,
 "nbformat_minor": 1
}