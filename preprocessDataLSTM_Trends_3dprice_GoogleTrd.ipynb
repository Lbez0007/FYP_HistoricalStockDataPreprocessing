{
 "cells": [
  {
   "cell_type": "markdown",
   "metadata": {},
   "source": [
    "# Import Packages"
   ]
  },
  {
   "cell_type": "code",
   "execution_count": 5,
   "metadata": {
    "pycharm": {
     "name": "#%%\n"
    }
   },
   "outputs": [],
   "source": [
    "import numpy as np\n",
    "import pandas as pd\n",
    "import glob\n",
    "import os"
   ]
  },
  {
   "cell_type": "markdown",
   "metadata": {},
   "source": [
    "# Define Dynamic Parameters"
   ]
  },
  {
   "cell_type": "code",
   "execution_count": 6,
   "metadata": {
    "pycharm": {
     "name": "#%%\n"
    },
    "tags": [
     "parameters"
    ]
   },
   "outputs": [],
   "source": [
    "trend_days = 3\n",
    "trend_file_name = 'GoogleTrendsAdjusted.csv'\n",
    "trends_variant = 'No'"
   ]
  },
  {
   "cell_type": "markdown",
   "metadata": {},
   "source": [
    "# Import CSVs"
   ]
  },
  {
   "cell_type": "code",
   "execution_count": 7,
   "metadata": {
    "pycharm": {
     "name": "#%%\n"
    }
   },
   "outputs": [
    {
     "name": "stdout",
     "output_type": "stream",
     "text": [
      "C:\\FYP - Luke Bezzina\\Code\\preprocessingHistoricalData/financial_data\n"
     ]
    }
   ],
   "source": [
    "# Current Path\n",
    "ROOT_DIR = os.path.abspath(os.curdir)\n",
    "path = ROOT_DIR + '/financial_data'\n",
    "print(path)\n",
    "\n",
    "csvfiles = glob.glob(path + \"/*.csv\")\n",
    "\n",
    "# Creating a dataframe for each CSV file\n",
    "dfs = [pd.read_csv(file) for file in csvfiles]"
   ]
  },
  {
   "cell_type": "markdown",
   "source": [
    "# Import Google Trends Adjusted dataset"
   ],
   "metadata": {
    "collapsed": false
   }
  },
  {
   "cell_type": "code",
   "execution_count": 8,
   "outputs": [
    {
     "name": "stdout",
     "output_type": "stream",
     "text": [
      "C:\\FYP - Luke Bezzina\\Code\\preprocessingHistoricalData/trends/\n"
     ]
    },
    {
     "ename": "NameError",
     "evalue": "name 'hbh' is not defined",
     "output_type": "error",
     "traceback": [
      "\u001B[1;31m---------------------------------------------------------------------------\u001B[0m",
      "\u001B[1;31mNameError\u001B[0m                                 Traceback (most recent call last)",
      "\u001B[1;32m<ipython-input-8-152a74b232b4>\u001B[0m in \u001B[0;36m<module>\u001B[1;34m\u001B[0m\n\u001B[0;32m      5\u001B[0m \u001B[1;31m# Creating a dataframe for trends\u001B[0m\u001B[1;33m\u001B[0m\u001B[1;33m\u001B[0m\u001B[1;33m\u001B[0m\u001B[0m\n\u001B[0;32m      6\u001B[0m \u001B[0mgoogle_df\u001B[0m \u001B[1;33m=\u001B[0m \u001B[0mpd\u001B[0m\u001B[1;33m.\u001B[0m\u001B[0mread_csv\u001B[0m\u001B[1;33m(\u001B[0m\u001B[0mtrends_path\u001B[0m \u001B[1;33m+\u001B[0m \u001B[0mtrend_file_name\u001B[0m\u001B[1;33m)\u001B[0m\u001B[1;33m\u001B[0m\u001B[1;33m\u001B[0m\u001B[0m\n\u001B[1;32m----> 7\u001B[1;33m \u001B[0mhbh\u001B[0m\u001B[1;33m\u001B[0m\u001B[1;33m\u001B[0m\u001B[0m\n\u001B[0m",
      "\u001B[1;31mNameError\u001B[0m: name 'hbh' is not defined"
     ]
    }
   ],
   "source": [
    "# Current Path\n",
    "trends_path = ROOT_DIR + '/trends/'\n",
    "print(trends_path)\n",
    "\n",
    "# Creating a dataframe for trends\n",
    "google_df = pd.read_csv(trends_path + trend_file_name)"
   ],
   "metadata": {
    "collapsed": false,
    "pycharm": {
     "name": "#%%\n"
    }
   }
  },
  {
   "cell_type": "markdown",
   "metadata": {},
   "source": [
    "# New Dataframe"
   ]
  },
  {
   "cell_type": "code",
   "execution_count": null,
   "metadata": {
    "pycharm": {
     "name": "#%%\n"
    }
   },
   "outputs": [],
   "source": [
    "processed_df_coll = {}"
   ]
  },
  {
   "cell_type": "markdown",
   "metadata": {},
   "source": [
    "# Pre-Process"
   ]
  },
  {
   "cell_type": "code",
   "execution_count": null,
   "metadata": {
    "pycharm": {
     "name": "#%%\n"
    }
   },
   "outputs": [],
   "source": [
    "prev_row = None\n",
    "# Up to 0.2% deviation from close price from day before is considered Neutral movement\n",
    "neutral_percentage = 0.002\n",
    "\n",
    "for df in dfs:\n",
    "    processed_df = pd.DataFrame(columns = ['Date', 'OpenPrice', 'ClosePrice', 'Trend',\n",
    "                                           'VolumeTrend', 'Volatility', 'PriceDirection'])\n",
    "\n",
    "    # Creating additional feature columns for each dataframe\n",
    "    iterables = df.itertuples(index=True, name='Pandas')\n",
    "    n = df.columns.get_loc('Name') # Name column in df\n",
    "    df_name = df.iat[1, n] # Name of equity/etf\n",
    "\n",
    "    print(df_name)\n",
    "\n",
    "    # Iterating all rows in dataframe\n",
    "    # Starting from trend_days - to allow for trends going back to trend_days days\n",
    "    # Ending at end day - 2 to allow for day + 2 classification label\n",
    "    for i in range(trend_days, len(df) - 2 ):\n",
    "        open = df.columns.get_loc('Open')\n",
    "        close = df.columns.get_loc('Close')\n",
    "        volume = df.columns.get_loc('Volume')\n",
    "        df_date = df.columns.get_loc('Date')\n",
    "\n",
    "        # Prices per row\n",
    "        open_price = df.iat[i-1, open]\n",
    "        close_price = df.iat[i-1, close]\n",
    "\n",
    "        # Price Trend Handling\n",
    "        price_today = df.iat[i + 0, close]\n",
    "        price_tomorrow = df.iat[i + 1, close]\n",
    "        price_2days_after = df.iat[i + 2, close]\n",
    "\n",
    "        close_price_3d = (price_today + price_tomorrow + price_2days_after)/3\n",
    "        prev_close_price = df.iat[i - 1, close]\n",
    "        price_change = close_price_3d - prev_close_price\n",
    "\n",
    "        if price_change > (close_price_3d * neutral_percentage):\n",
    "            direction = 'Positive'\n",
    "        elif price_change < 0 and abs(price_change) > (close_price_3d * neutral_percentage):\n",
    "            direction = 'Negative'\n",
    "        else:\n",
    "            direction = 'Neutral'\n",
    "\n",
    "        # Price Difference Handling\n",
    "        pds = {}\n",
    "        initial_close = df.iat[i - (trend_days + 1), close]\n",
    "\n",
    "        for d in range(1, trend_days + 1):\n",
    "            key = \"d\"+ str(d) +\"_pd\"\n",
    "            value = df.iat[i - d, close] - initial_close\n",
    "            pds[key] = value\n",
    "\n",
    "        # Volume Difference Handling\n",
    "        vpds = {}\n",
    "        initial_vol = df.iat[i - (trend_days + 1), volume] + 1\n",
    "\n",
    "        for vd in range(1, trend_days + 1):\n",
    "            key = \"vd\"+ str(vd) +\"_pd\"\n",
    "            value = (df.iat[i - vd, volume] / initial_vol)\n",
    "            vpds[key] = value\n",
    "\n",
    "        date_ts = df.iat[i,df_date]\n",
    "\n",
    "        # volatility of prices window\n",
    "        volatility = np.std(list(pds.values()))\n",
    "\n",
    "        # finding trends of close and volume in terms of gradient (slope)\n",
    "        polyfit_x_axis = list(range(0, trend_days))\n",
    "        test_list = list(pds.values())\n",
    "        slope, intercept = np.polyfit(polyfit_x_axis, list(pds.values()), 1)\n",
    "        slopeVol, interceptVol = np.polyfit(polyfit_x_axis, list(vpds.values()), 1)\n",
    "\n",
    "        new_row = {'Date':date_ts, 'OpenPrice':open_price, 'ClosePrice':close_price,\n",
    "                   'Trend':slope, 'VolumeTrend':slopeVol, 'Volatility':volatility,\n",
    "                   'PriceDirection':direction}\n",
    "\n",
    "        #append row to the dataframe\n",
    "        processed_df = processed_df.append(new_row, ignore_index=True)\n",
    "\n",
    "    #pd.concat([processed_df, google_df], axis=1)\n",
    "    processed_df = pd.merge(processed_df,google_df,left_on='Date',right_on='Date')\n",
    "    # Re-sorting PriceDirection column\n",
    "    label = processed_df.pop('PriceDirection')\n",
    "    processed_df['PriceDirection'] = label\n",
    "\n",
    "    print(processed_df)\n",
    "    processed_df_coll[df_name] = processed_df\n"
   ]
  },
  {
   "cell_type": "markdown",
   "metadata": {},
   "source": [
    "# Data Export"
   ]
  },
  {
   "cell_type": "code",
   "execution_count": null,
   "metadata": {
    "pycharm": {
     "name": "#%%\n"
    }
   },
   "outputs": [],
   "source": [
    "for key, df in processed_df_coll.items():\n",
    "    df.to_csv(ROOT_DIR+'\\\\LSTM\\\\'+key+\"_\"+ str(trend_days) + \"dtrend_google_trd\" + trends_variant + \".csv\", index=False)\n",
    "\n",
    "print(\"Export Complete!\")\n"
   ]
  }
 ],
 "metadata": {
  "celltoolbar": "Tags",
  "kernelspec": {
   "display_name": "Python 3",
   "language": "python",
   "name": "python3"
  },
  "language_info": {
   "codemirror_mode": {
    "name": "ipython",
    "version": 3
   },
   "file_extension": ".py",
   "mimetype": "text/x-python",
   "name": "python",
   "nbconvert_exporter": "python",
   "pygments_lexer": "ipython3",
   "version": "3.7.10"
  }
 },
 "nbformat": 4,
 "nbformat_minor": 1
}