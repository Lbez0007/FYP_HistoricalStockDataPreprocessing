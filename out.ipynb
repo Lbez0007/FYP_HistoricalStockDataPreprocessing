{
 "cells": [
  {
   "cell_type": "markdown",
   "id": "b020fc2c",
   "metadata": {
    "papermill": {
     "duration": 0.013927,
     "end_time": "2021-06-12T10:26:21.553842",
     "exception": false,
     "start_time": "2021-06-12T10:26:21.539915",
     "status": "completed"
    },
    "tags": []
   },
   "source": [
    "# Import Packages"
   ]
  },
  {
   "cell_type": "code",
   "execution_count": 1,
   "id": "4037316e",
   "metadata": {
    "execution": {
     "iopub.execute_input": "2021-06-12T10:26:21.581197Z",
     "iopub.status.busy": "2021-06-12T10:26:21.580200Z",
     "iopub.status.idle": "2021-06-12T10:26:21.585176Z",
     "shell.execute_reply": "2021-06-12T10:26:21.584180Z"
    },
    "papermill": {
     "duration": 0.020887,
     "end_time": "2021-06-12T10:26:21.585176",
     "exception": false,
     "start_time": "2021-06-12T10:26:21.564289",
     "status": "completed"
    },
    "pycharm": {
     "name": "#%%\n"
    },
    "tags": []
   },
   "outputs": [],
   "source": [
    "import numpy as np\n",
    "import pandas as pd\n",
    "import glob\n",
    "import os"
   ]
  },
  {
   "cell_type": "markdown",
   "id": "b29ac6c4",
   "metadata": {
    "papermill": {
     "duration": 0.012854,
     "end_time": "2021-06-12T10:26:21.612998",
     "exception": false,
     "start_time": "2021-06-12T10:26:21.600144",
     "status": "completed"
    },
    "tags": []
   },
   "source": [
    "# Define Dynamic Parameters"
   ]
  },
  {
   "cell_type": "code",
   "execution_count": 2,
   "id": "45230170",
   "metadata": {
    "execution": {
     "iopub.execute_input": "2021-06-12T10:26:21.644706Z",
     "iopub.status.busy": "2021-06-12T10:26:21.642243Z",
     "iopub.status.idle": "2021-06-12T10:26:21.645601Z",
     "shell.execute_reply": "2021-06-12T10:26:21.646600Z"
    },
    "papermill": {
     "duration": 0.022712,
     "end_time": "2021-06-12T10:26:21.646600",
     "exception": false,
     "start_time": "2021-06-12T10:26:21.623888",
     "status": "completed"
    },
    "pycharm": {
     "name": "#%%\n"
    },
    "tags": [
     "parameters"
    ]
   },
   "outputs": [],
   "source": [
    "trend_days = 3\n",
    "trend_file_name = 'GoogleTrendsAdjusted.csv'\n",
    "trends_variant = 'No'"
   ]
  },
  {
   "cell_type": "code",
   "execution_count": 3,
   "id": "8e4685ce",
   "metadata": {
    "execution": {
     "iopub.execute_input": "2021-06-12T10:26:21.678520Z",
     "iopub.status.busy": "2021-06-12T10:26:21.677521Z",
     "iopub.status.idle": "2021-06-12T10:26:21.682509Z",
     "shell.execute_reply": "2021-06-12T10:26:21.683508Z"
    },
    "papermill": {
     "duration": 0.022945,
     "end_time": "2021-06-12T10:26:21.684503",
     "exception": false,
     "start_time": "2021-06-12T10:26:21.661558",
     "status": "completed"
    },
    "tags": [
     "injected-parameters"
    ]
   },
   "outputs": [],
   "source": [
    "# Parameters\n",
    "trend_days = 7\n",
    "trend_file_name = \"GoogleTrendsAdjusted.csv\"\n",
    "trends_variant = \"\"\n"
   ]
  },
  {
   "cell_type": "markdown",
   "id": "8812f65e",
   "metadata": {
    "papermill": {
     "duration": 0.013963,
     "end_time": "2021-06-12T10:26:21.713339",
     "exception": false,
     "start_time": "2021-06-12T10:26:21.699376",
     "status": "completed"
    },
    "tags": []
   },
   "source": [
    "# Import CSVs"
   ]
  },
  {
   "cell_type": "code",
   "execution_count": 4,
   "id": "a891be73",
   "metadata": {
    "execution": {
     "iopub.execute_input": "2021-06-12T10:26:21.744982Z",
     "iopub.status.busy": "2021-06-12T10:26:21.743984Z",
     "iopub.status.idle": "2021-06-12T10:26:21.890669Z",
     "shell.execute_reply": "2021-06-12T10:26:21.891665Z"
    },
    "papermill": {
     "duration": 0.165362,
     "end_time": "2021-06-12T10:26:21.891665",
     "exception": false,
     "start_time": "2021-06-12T10:26:21.726303",
     "status": "completed"
    },
    "pycharm": {
     "name": "#%%\n"
    },
    "tags": []
   },
   "outputs": [
    {
     "name": "stdout",
     "output_type": "stream",
     "text": [
      "C:\\FYP - Luke Bezzina\\Code\\preprocessingHistoricalData/financial_data\n"
     ]
    }
   ],
   "source": [
    "# Current Path\n",
    "ROOT_DIR = os.path.abspath(os.curdir)\n",
    "path = ROOT_DIR + '/financial_data'\n",
    "print(path)\n",
    "\n",
    "csvfiles = glob.glob(path + \"/*.csv\")\n",
    "\n",
    "# Creating a dataframe for each CSV file\n",
    "dfs = [pd.read_csv(file) for file in csvfiles]"
   ]
  },
  {
   "cell_type": "markdown",
   "id": "56ce4e2c",
   "metadata": {
    "collapsed": false,
    "papermill": {
     "duration": 0.013841,
     "end_time": "2021-06-12T10:26:21.916579",
     "exception": false,
     "start_time": "2021-06-12T10:26:21.902738",
     "status": "completed"
    },
    "tags": []
   },
   "source": [
    "# Import Google Trends Adjusted dataset"
   ]
  },
  {
   "cell_type": "code",
   "execution_count": 5,
   "id": "34cd4b29",
   "metadata": {
    "collapsed": false,
    "execution": {
     "iopub.execute_input": "2021-06-12T10:26:21.967923Z",
     "iopub.status.busy": "2021-06-12T10:26:21.967923Z",
     "iopub.status.idle": "2021-06-12T10:26:21.986870Z",
     "shell.execute_reply": "2021-06-12T10:26:21.988868Z"
    },
    "papermill": {
     "duration": 0.060326,
     "end_time": "2021-06-12T10:26:21.989868",
     "exception": false,
     "start_time": "2021-06-12T10:26:21.929542",
     "status": "completed"
    },
    "pycharm": {
     "name": "#%%\n"
    },
    "tags": []
   },
   "outputs": [
    {
     "name": "stdout",
     "output_type": "stream",
     "text": [
      "C:\\FYP - Luke Bezzina\\Code\\preprocessingHistoricalData/trends/\n"
     ]
    }
   ],
   "source": [
    "# Current Path\n",
    "trends_path = ROOT_DIR + '/trends/'\n",
    "print(trends_path)\n",
    "\n",
    "# Creating a dataframe for trends\n",
    "google_df = pd.read_csv(trends_path + trend_file_name)"
   ]
  },
  {
   "cell_type": "markdown",
   "id": "4c4c12f7",
   "metadata": {
    "papermill": {
     "duration": 0.018958,
     "end_time": "2021-06-12T10:26:22.025754",
     "exception": false,
     "start_time": "2021-06-12T10:26:22.006796",
     "status": "completed"
    },
    "tags": []
   },
   "source": [
    "# New Dataframe"
   ]
  },
  {
   "cell_type": "code",
   "execution_count": 6,
   "id": "8d79bce9",
   "metadata": {
    "execution": {
     "iopub.execute_input": "2021-06-12T10:26:22.064649Z",
     "iopub.status.busy": "2021-06-12T10:26:22.063652Z",
     "iopub.status.idle": "2021-06-12T10:26:22.067640Z",
     "shell.execute_reply": "2021-06-12T10:26:22.066643Z"
    },
    "papermill": {
     "duration": 0.023944,
     "end_time": "2021-06-12T10:26:22.067640",
     "exception": false,
     "start_time": "2021-06-12T10:26:22.043696",
     "status": "completed"
    },
    "pycharm": {
     "name": "#%%\n"
    },
    "tags": []
   },
   "outputs": [],
   "source": [
    "processed_df_coll = {}"
   ]
  },
  {
   "cell_type": "markdown",
   "id": "19559c71",
   "metadata": {
    "papermill": {
     "duration": 0.014962,
     "end_time": "2021-06-12T10:26:22.096565",
     "exception": false,
     "start_time": "2021-06-12T10:26:22.081603",
     "status": "completed"
    },
    "tags": []
   },
   "source": [
    "# Pre-Process"
   ]
  },
  {
   "cell_type": "code",
   "execution_count": 7,
   "id": "dd778107",
   "metadata": {
    "execution": {
     "iopub.execute_input": "2021-06-12T10:26:22.189630Z",
     "iopub.status.busy": "2021-06-12T10:26:22.150905Z",
     "iopub.status.idle": "2021-06-12T10:29:09.077869Z",
     "shell.execute_reply": "2021-06-12T10:29:09.075879Z"
    },
    "papermill": {
     "duration": 166.962415,
     "end_time": "2021-06-12T10:29:09.077869",
     "exception": false,
     "start_time": "2021-06-12T10:26:22.115454",
     "status": "completed"
    },
    "pycharm": {
     "name": "#%%\n"
    },
    "tags": []
   },
   "outputs": [
    {
     "name": "stdout",
     "output_type": "stream",
     "text": [
      "AAL\n"
     ]
    },
    {
     "name": "stdout",
     "output_type": "stream",
     "text": [
      "           Date  OpenPrice  ClosePrice  ...  variant  pfizer  PriceDirection\n",
      "0    2017-01-12      49.29       48.64  ...     6.93    1.77        Negative\n",
      "1    2017-01-13      48.67       48.10  ...     8.69    1.50        Negative\n",
      "2    2017-01-17      48.16       47.65  ...     4.16    2.64        Negative\n",
      "3    2017-01-18      47.56       46.75  ...     3.44    1.77        Positive\n",
      "4    2017-01-19      46.72       47.64  ...     6.80    2.10        Negative\n",
      "..          ...        ...         ...  ...      ...     ...             ...\n",
      "993  2020-12-22      15.70       16.10  ...    17.11   20.16        Negative\n",
      "994  2020-12-23      16.35       15.48  ...    10.03   20.58        Positive\n",
      "995  2020-12-24      15.52       15.89  ...     8.26   13.86         Neutral\n",
      "996  2020-12-28      16.04       15.66  ...    15.00   11.55        Positive\n",
      "997  2020-12-29      15.96       16.06  ...    36.00   12.87        Negative\n",
      "\n",
      "[998 rows x 25 columns]\n",
      "AAPL\n"
     ]
    },
    {
     "name": "stdout",
     "output_type": "stream",
     "text": [
      "           Date  OpenPrice  ClosePrice  ...  variant  pfizer  PriceDirection\n",
      "0    2017-01-12      29.68       29.94  ...     6.93    1.77        Negative\n",
      "1    2017-01-13      29.72       29.81  ...     8.69    1.50        Positive\n",
      "2    2017-01-17      29.78       29.76  ...     4.16    2.64        Positive\n",
      "3    2017-01-18      29.59       30.00  ...     3.44    1.77         Neutral\n",
      "4    2017-01-19      30.00       30.00  ...     6.80    2.10         Neutral\n",
      "..          ...        ...         ...  ...      ...     ...             ...\n",
      "993  2020-12-22     125.02      128.23  ...    17.11   20.16        Positive\n",
      "994  2020-12-23     131.61      131.88  ...    10.03   20.58        Positive\n",
      "995  2020-12-24     132.16      130.96  ...     8.26   13.86        Positive\n",
      "996  2020-12-28     131.32      131.97  ...    15.00   11.55        Positive\n",
      "997  2020-12-29     133.99      136.69  ...    36.00   12.87        Negative\n",
      "\n",
      "[998 rows x 25 columns]\n",
      "AMT\n"
     ]
    },
    {
     "name": "stdout",
     "output_type": "stream",
     "text": [
      "           Date  OpenPrice  ClosePrice  ...  variant  pfizer  PriceDirection\n",
      "0    2017-01-12     103.48      103.83  ...     6.93    1.77        Positive\n",
      "1    2017-01-13     103.69      104.20  ...     8.69    1.50        Positive\n",
      "2    2017-01-17     104.22      103.45  ...     4.16    2.64        Positive\n",
      "3    2017-01-18     103.58      105.17  ...     3.44    1.77        Negative\n",
      "4    2017-01-19     105.26      105.67  ...     6.80    2.10        Negative\n",
      "..          ...        ...         ...  ...      ...     ...             ...\n",
      "994  2020-12-22     219.13      219.78  ...    17.11   20.16        Negative\n",
      "995  2020-12-23     219.07      220.49  ...    10.03   20.58        Negative\n",
      "996  2020-12-24     221.50      217.40  ...     8.26   13.86        Positive\n",
      "997  2020-12-28     216.44      218.65  ...    15.00   11.55        Positive\n",
      "998  2020-12-29     218.87      221.07  ...    36.00   12.87        Positive\n",
      "\n",
      "[999 rows x 25 columns]\n",
      "AVY\n"
     ]
    },
    {
     "name": "stdout",
     "output_type": "stream",
     "text": [
      "           Date  OpenPrice  ClosePrice  ...  variant  pfizer  PriceDirection\n",
      "0    2017-01-12      72.48       72.70  ...     6.93    1.77        Negative\n",
      "1    2017-01-13      72.46       72.13  ...     8.69    1.50        Positive\n",
      "2    2017-01-17      72.43       72.15  ...     4.16    2.64        Positive\n",
      "3    2017-01-18      72.16       72.45  ...     3.44    1.77        Positive\n",
      "4    2017-01-19      72.44       73.17  ...     6.80    2.10        Negative\n",
      "..          ...        ...         ...  ...      ...     ...             ...\n",
      "993  2020-12-22     150.69      152.08  ...    17.11   20.16        Positive\n",
      "994  2020-12-23     151.37      151.76  ...    10.03   20.58        Positive\n",
      "995  2020-12-24     152.67      152.71  ...     8.26   13.86        Positive\n",
      "996  2020-12-28     153.57      153.40  ...    15.00   11.55         Neutral\n",
      "997  2020-12-29     155.00      153.94  ...    36.00   12.87         Neutral\n",
      "\n",
      "[998 rows x 25 columns]\n",
      "AWK\n"
     ]
    },
    {
     "name": "stdout",
     "output_type": "stream",
     "text": [
      "            Date  OpenPrice  ClosePrice  ...  variant  pfizer  PriceDirection\n",
      "0     2017-01-12      70.66       70.57  ...     6.93    1.77        Positive\n",
      "1     2017-01-13      70.60       70.69  ...     8.69    1.50        Positive\n",
      "2     2017-01-17      70.62       70.82  ...     4.16    2.64        Positive\n",
      "3     2017-01-18      71.11       72.07  ...     3.44    1.77         Neutral\n",
      "4     2017-01-19      72.01       72.60  ...     6.80    2.10        Negative\n",
      "...          ...        ...         ...  ...      ...     ...             ...\n",
      "996   2020-12-22     148.95      149.11  ...    17.11   20.16        Negative\n",
      "997   2020-12-23     149.34      148.06  ...    10.03   20.58        Positive\n",
      "998   2020-12-24     148.95      147.41  ...     8.26   13.86        Positive\n",
      "999   2020-12-28     147.88      149.14  ...    15.00   11.55        Positive\n",
      "1000  2020-12-29     149.59      149.65  ...    36.00   12.87        Positive\n",
      "\n",
      "[1001 rows x 25 columns]\n",
      "BA\n"
     ]
    },
    {
     "name": "stdout",
     "output_type": "stream",
     "text": [
      "           Date  OpenPrice  ClosePrice  ...  variant  pfizer  PriceDirection\n",
      "0    2017-01-12     159.54      159.40  ...     6.93    1.77        Negative\n",
      "1    2017-01-13     159.15      158.29  ...     8.69    1.50         Neutral\n",
      "2    2017-01-17     158.74      158.83  ...     4.16    2.64        Negative\n",
      "3    2017-01-18     158.20      157.67  ...     3.44    1.77        Positive\n",
      "4    2017-01-19     157.55      158.32  ...     6.80    2.10        Positive\n",
      "..          ...        ...         ...  ...      ...     ...             ...\n",
      "993  2020-12-22     212.00      219.31  ...    17.11   20.16        Negative\n",
      "994  2020-12-23     223.16      218.78  ...    10.03   20.58        Negative\n",
      "995  2020-12-24     219.75      219.69  ...     8.26   13.86        Negative\n",
      "996  2020-12-28     219.62      217.15  ...    15.00   11.55        Negative\n",
      "997  2020-12-29     217.75      216.09  ...    36.00   12.87         Neutral\n",
      "\n",
      "[998 rows x 25 columns]\n",
      "BAC\n"
     ]
    },
    {
     "name": "stdout",
     "output_type": "stream",
     "text": [
      "           Date  OpenPrice  ClosePrice  ...  variant  pfizer  PriceDirection\n",
      "0    2017-01-12      22.94       23.07  ...     6.93    1.77        Negative\n",
      "1    2017-01-13      23.01       22.92  ...     8.69    1.50        Negative\n",
      "2    2017-01-17      23.21       23.01  ...     4.16    2.64        Negative\n",
      "3    2017-01-18      22.68       22.05  ...     3.44    1.77        Positive\n",
      "4    2017-01-19      22.30       22.63  ...     6.80    2.10        Negative\n",
      "..          ...        ...         ...  ...      ...     ...             ...\n",
      "993  2020-12-22      28.97       29.74  ...    17.11   20.16         Neutral\n",
      "994  2020-12-23      29.78       29.21  ...    10.03   20.58        Positive\n",
      "995  2020-12-24      29.38       30.05  ...     8.26   13.86         Neutral\n",
      "996  2020-12-28      30.27       29.96  ...    15.00   11.55        Positive\n",
      "997  2020-12-29      30.17       30.13  ...    36.00   12.87         Neutral\n",
      "\n",
      "[998 rows x 25 columns]\n",
      "CCL\n"
     ]
    },
    {
     "name": "stdout",
     "output_type": "stream",
     "text": [
      "            Date  OpenPrice  ClosePrice  ...  variant  pfizer  PriceDirection\n",
      "0     2017-01-12      54.29       54.56  ...     6.93    1.77        Negative\n",
      "1     2017-01-13      54.22       53.64  ...     8.69    1.50        Negative\n",
      "2     2017-01-17      53.47       53.46  ...     4.16    2.64         Neutral\n",
      "3     2017-01-18      53.48       53.09  ...     3.44    1.77        Positive\n",
      "4     2017-01-19      52.79       53.60  ...     6.80    2.10         Neutral\n",
      "...          ...        ...         ...  ...      ...     ...             ...\n",
      "996   2020-12-22      20.22       21.06  ...    17.11   20.16        Negative\n",
      "997   2020-12-23      21.07       19.81  ...    10.03   20.58        Positive\n",
      "998   2020-12-24      20.12       20.94  ...     8.26   13.86        Positive\n",
      "999   2020-12-28      20.98       20.84  ...    15.00   11.55        Positive\n",
      "1000  2020-12-29      21.20       21.71  ...    36.00   12.87        Negative\n",
      "\n",
      "[1001 rows x 25 columns]\n",
      "CNP\n"
     ]
    },
    {
     "name": "stdout",
     "output_type": "stream",
     "text": [
      "           Date  OpenPrice  ClosePrice  ...  variant  pfizer  PriceDirection\n",
      "0    2017-01-12      24.92       25.42  ...     6.93    1.77         Neutral\n",
      "1    2017-01-13      25.41       25.33  ...     8.69    1.50        Positive\n",
      "2    2017-01-17      25.27       25.42  ...     4.16    2.64        Positive\n",
      "3    2017-01-18      25.48       25.49  ...     3.44    1.77        Positive\n",
      "4    2017-01-19      25.44       25.68  ...     6.80    2.10        Negative\n",
      "..          ...        ...         ...  ...      ...     ...             ...\n",
      "993  2020-12-22      21.61       21.05  ...    17.11   20.16        Positive\n",
      "994  2020-12-23      21.02       20.82  ...    10.03   20.58        Positive\n",
      "995  2020-12-24      21.06       21.50  ...     8.26   13.86        Negative\n",
      "996  2020-12-28      21.47       21.58  ...    15.00   11.55        Negative\n",
      "997  2020-12-29      21.61       21.41  ...    36.00   12.87        Positive\n",
      "\n",
      "[998 rows x 25 columns]\n",
      "EQR\n"
     ]
    },
    {
     "name": "stdout",
     "output_type": "stream",
     "text": [
      "           Date  OpenPrice  ClosePrice  ...  variant  pfizer  PriceDirection\n",
      "0    2017-01-12      63.84       63.31  ...     6.93    1.77        Positive\n",
      "1    2017-01-13      63.19       64.11  ...     8.69    1.50        Negative\n",
      "2    2017-01-17      63.94       63.39  ...     4.16    2.64         Neutral\n",
      "3    2017-01-18      63.54       63.48  ...     3.44    1.77        Negative\n",
      "4    2017-01-19      63.51       63.60  ...     6.80    2.10        Negative\n",
      "..          ...        ...         ...  ...      ...     ...             ...\n",
      "993  2020-12-22      56.70       57.86  ...    17.11   20.16        Negative\n",
      "994  2020-12-23      57.71       57.85  ...    10.03   20.58        Positive\n",
      "995  2020-12-24      58.00       57.07  ...     8.26   13.86        Positive\n",
      "996  2020-12-28      57.48       58.20  ...    15.00   11.55        Positive\n",
      "997  2020-12-29      58.32       59.42  ...    36.00   12.87        Negative\n",
      "\n",
      "[998 rows x 25 columns]\n",
      "F\n"
     ]
    },
    {
     "name": "stdout",
     "output_type": "stream",
     "text": [
      "           Date  OpenPrice  ClosePrice  ...  variant  pfizer  PriceDirection\n",
      "0    2017-01-12      12.71       12.67  ...     6.93    1.77        Negative\n",
      "1    2017-01-13      12.66       12.59  ...     8.69    1.50        Negative\n",
      "2    2017-01-17      12.62       12.63  ...     4.16    2.64        Negative\n",
      "3    2017-01-18      12.65       12.61  ...     3.44    1.77        Negative\n",
      "4    2017-01-19      12.43       12.41  ...     6.80    2.10        Negative\n",
      "..          ...        ...         ...  ...      ...     ...             ...\n",
      "993  2020-12-22       8.87        8.93  ...    17.11   20.16        Negative\n",
      "994  2020-12-23       8.98        8.79  ...    10.03   20.58        Positive\n",
      "995  2020-12-24       8.81        8.99  ...     8.26   13.86        Negative\n",
      "996  2020-12-28       9.01        8.86  ...    15.00   11.55         Neutral\n",
      "997  2020-12-29       8.92        8.89  ...    36.00   12.87        Negative\n",
      "\n",
      "[998 rows x 25 columns]\n",
      "FOX\n"
     ]
    },
    {
     "name": "stdout",
     "output_type": "stream",
     "text": [
      "           Date  OpenPrice  ClosePrice  ...  variant  pfizer  PriceDirection\n",
      "0    2019-03-25      38.76       37.46  ...     8.26    1.83        Negative\n",
      "1    2019-03-26      37.57       36.45  ...     9.94    3.00        Negative\n",
      "2    2019-03-27      36.46       36.71  ...    10.64    2.61        Negative\n",
      "3    2019-03-28      36.75       36.20  ...     8.82    2.34        Negative\n",
      "4    2019-03-29      36.14       35.67  ...     6.86    2.07        Positive\n",
      "..          ...        ...         ...  ...      ...     ...             ...\n",
      "442  2020-12-22      27.53       27.39  ...    17.11   20.16        Positive\n",
      "443  2020-12-23      27.35       26.98  ...    10.03   20.58        Positive\n",
      "444  2020-12-24      27.08       27.75  ...     8.26   13.86        Positive\n",
      "445  2020-12-28      27.75       28.00  ...    15.00   11.55        Positive\n",
      "446  2020-12-29      28.05       28.88  ...    36.00   12.87        Negative\n",
      "\n",
      "[447 rows x 25 columns]\n",
      "HFC\n"
     ]
    },
    {
     "name": "stdout",
     "output_type": "stream",
     "text": [
      "            Date  OpenPrice  ClosePrice  ...  variant  pfizer  PriceDirection\n",
      "0     2017-01-12      30.73       31.05  ...     6.93    1.77        Negative\n",
      "1     2017-01-13      31.39       30.55  ...     8.69    1.50        Negative\n",
      "2     2017-01-17      30.12       30.03  ...     4.16    2.64         Neutral\n",
      "3     2017-01-18      30.33       30.05  ...     3.44    1.77         Neutral\n",
      "4     2017-01-19      29.93       30.21  ...     6.80    2.10        Negative\n",
      "...          ...        ...         ...  ...      ...     ...             ...\n",
      "996   2020-12-22      24.18       24.81  ...    17.11   20.16        Positive\n",
      "997   2020-12-23      24.65       24.32  ...    10.03   20.58        Positive\n",
      "998   2020-12-24      24.66       25.45  ...     8.26   13.86        Negative\n",
      "999   2020-12-28      25.40       25.35  ...    15.00   11.55        Positive\n",
      "1000  2020-12-29      25.55       25.22  ...    36.00   12.87        Positive\n",
      "\n",
      "[1001 rows x 25 columns]\n",
      "JNJ\n"
     ]
    },
    {
     "name": "stdout",
     "output_type": "stream",
     "text": [
      "           Date  OpenPrice  ClosePrice  ...  variant  pfizer  PriceDirection\n",
      "0    2017-01-12     116.08      114.73  ...     6.93    1.77         Neutral\n",
      "1    2017-01-13     114.27      114.62  ...     8.69    1.50         Neutral\n",
      "2    2017-01-17     114.94      114.60  ...     4.16    2.64         Neutral\n",
      "3    2017-01-18     113.94      114.87  ...     3.44    1.77        Negative\n",
      "4    2017-01-19     114.94      114.70  ...     6.80    2.10        Negative\n",
      "..          ...        ...         ...  ...      ...     ...             ...\n",
      "994  2020-12-22     152.01      153.02  ...    17.11   20.16        Negative\n",
      "995  2020-12-23     152.30      152.72  ...    10.03   20.58         Neutral\n",
      "996  2020-12-24     153.01      151.94  ...     8.26   13.86        Positive\n",
      "997  2020-12-28     151.85      152.47  ...    15.00   11.55        Positive\n",
      "998  2020-12-29     153.39      153.19  ...    36.00   12.87        Positive\n",
      "\n",
      "[999 rows x 25 columns]\n",
      "MSFT\n"
     ]
    },
    {
     "name": "stdout",
     "output_type": "stream",
     "text": [
      "           Date  OpenPrice  ClosePrice  ...  variant  pfizer  PriceDirection\n",
      "0    2017-01-12      62.61       63.19  ...     6.93    1.77        Negative\n",
      "1    2017-01-13      63.06       62.61  ...     8.69    1.50         Neutral\n",
      "2    2017-01-17      62.62       62.70  ...     4.16    2.64        Negative\n",
      "3    2017-01-18      62.68       62.53  ...     3.44    1.77         Neutral\n",
      "4    2017-01-19      62.67       62.50  ...     6.80    2.10        Positive\n",
      "..          ...        ...         ...  ...      ...     ...             ...\n",
      "993  2020-12-22     217.60      222.59  ...    17.11   20.16         Neutral\n",
      "994  2020-12-23     222.68      223.94  ...    10.03   20.58        Negative\n",
      "995  2020-12-24     223.25      221.02  ...     8.26   13.86        Positive\n",
      "996  2020-12-28     221.42      222.75  ...    15.00   11.55        Positive\n",
      "997  2020-12-29     224.50      224.96  ...    36.00   12.87        Negative\n",
      "\n",
      "[998 rows x 25 columns]\n",
      "NFLX\n"
     ]
    },
    {
     "name": "stdout",
     "output_type": "stream",
     "text": [
      "           Date  OpenPrice  ClosePrice  ...  variant  pfizer  PriceDirection\n",
      "0    2017-01-12     130.91      130.50  ...     6.93    1.77        Positive\n",
      "1    2017-01-13     130.63      129.18  ...     8.69    1.50        Positive\n",
      "2    2017-01-17     131.15      133.70  ...     4.16    2.64        Positive\n",
      "3    2017-01-18     135.04      132.89  ...     3.44    1.77        Positive\n",
      "4    2017-01-19     133.21      133.26  ...     6.80    2.10        Positive\n",
      "..          ...        ...         ...  ...      ...     ...             ...\n",
      "993  2020-12-22     530.37      528.91  ...    17.11   20.16        Negative\n",
      "994  2020-12-23     528.00      527.33  ...    10.03   20.58        Negative\n",
      "995  2020-12-24     524.76      514.48  ...     8.26   13.86        Positive\n",
      "996  2020-12-28     515.12      513.97  ...    15.00   11.55        Positive\n",
      "997  2020-12-29     516.26      519.12  ...    36.00   12.87        Positive\n",
      "\n",
      "[998 rows x 25 columns]\n",
      "PFE\n"
     ]
    },
    {
     "name": "stdout",
     "output_type": "stream",
     "text": [
      "           Date  OpenPrice  ClosePrice  ...  variant  pfizer  PriceDirection\n",
      "0    2017-01-12      33.37       32.83  ...     6.93    1.77        Negative\n",
      "1    2017-01-13      32.53       32.60  ...     8.69    1.50        Negative\n",
      "2    2017-01-17      32.67       32.52  ...     4.16    2.64        Negative\n",
      "3    2017-01-18      32.35       32.06  ...     3.44    1.77        Negative\n",
      "4    2017-01-19      32.09       32.03  ...     6.80    2.10        Negative\n",
      "..          ...        ...         ...  ...      ...     ...             ...\n",
      "993  2020-12-22      37.24       37.38  ...    17.11   20.16        Negative\n",
      "994  2020-12-23      37.21       36.74  ...    10.03   20.58        Positive\n",
      "995  2020-12-24      37.01       37.44  ...     8.26   13.86        Negative\n",
      "996  2020-12-28      37.40       37.27  ...    15.00   11.55        Negative\n",
      "997  2020-12-29      37.39       36.82  ...    36.00   12.87         Neutral\n",
      "\n",
      "[998 rows x 25 columns]\n",
      "PKG\n"
     ]
    },
    {
     "name": "stdout",
     "output_type": "stream",
     "text": [
      "            Date  OpenPrice  ClosePrice  ...  variant  pfizer  PriceDirection\n",
      "0     2017-01-12      88.06       88.52  ...     6.93    1.77        Negative\n",
      "1     2017-01-13      88.10       86.88  ...     8.69    1.50        Negative\n",
      "2     2017-01-17      86.96       87.22  ...     4.16    2.64        Negative\n",
      "3     2017-01-18      86.82       85.67  ...     3.44    1.77        Positive\n",
      "4     2017-01-19      85.83       86.66  ...     6.80    2.10         Neutral\n",
      "...          ...        ...         ...  ...      ...     ...             ...\n",
      "996   2020-12-22     133.32      133.77  ...    17.11   20.16        Positive\n",
      "997   2020-12-23     133.62      133.81  ...    10.03   20.58        Positive\n",
      "998   2020-12-24     134.12      135.73  ...     8.26   13.86        Positive\n",
      "999   2020-12-28     136.27      136.10  ...    15.00   11.55        Positive\n",
      "1000  2020-12-29     137.94      136.78  ...    36.00   12.87         Neutral\n",
      "\n",
      "[1001 rows x 25 columns]\n",
      "PM\n"
     ]
    },
    {
     "name": "stdout",
     "output_type": "stream",
     "text": [
      "           Date  OpenPrice  ClosePrice  ...  variant  pfizer  PriceDirection\n",
      "0    2017-01-12      90.65       90.44  ...     6.93    1.77        Positive\n",
      "1    2017-01-13      90.45       90.51  ...     8.69    1.50        Positive\n",
      "2    2017-01-17      90.42       90.40  ...     4.16    2.64        Positive\n",
      "3    2017-01-18      90.63       92.36  ...     3.44    1.77        Positive\n",
      "4    2017-01-19      92.60       93.49  ...     6.80    2.10        Positive\n",
      "..          ...        ...         ...  ...      ...     ...             ...\n",
      "993  2020-12-22      84.53       84.17  ...    17.11   20.16        Negative\n",
      "994  2020-12-23      82.53       82.19  ...    10.03   20.58        Positive\n",
      "995  2020-12-24      82.45       82.20  ...     8.26   13.86         Neutral\n",
      "996  2020-12-28      82.16       82.51  ...    15.00   11.55        Negative\n",
      "997  2020-12-29      82.81       82.49  ...    36.00   12.87        Negative\n",
      "\n",
      "[998 rows x 25 columns]\n",
      "S&P500\n"
     ]
    },
    {
     "name": "stdout",
     "output_type": "stream",
     "text": [
      "           Date  OpenPrice  ClosePrice  ...  variant  pfizer  PriceDirection\n",
      "0    2017-01-12    2268.60     2275.32  ...     6.93    1.77         Neutral\n",
      "1    2017-01-13    2271.14     2270.44  ...     8.69    1.50         Neutral\n",
      "2    2017-01-17    2272.74     2274.64  ...     4.16    2.64        Negative\n",
      "3    2017-01-18    2269.14     2267.89  ...     3.44    1.77         Neutral\n",
      "4    2017-01-19    2269.14     2271.89  ...     6.80    2.10        Negative\n",
      "..          ...        ...         ...  ...      ...     ...             ...\n",
      "993  2020-12-22    3684.28     3694.92  ...    17.11   20.16         Neutral\n",
      "994  2020-12-23    3698.08     3687.26  ...    10.03   20.58        Positive\n",
      "995  2020-12-24    3693.42     3690.01  ...     8.26   13.86        Positive\n",
      "996  2020-12-28    3694.03     3703.06  ...    15.00   11.55        Positive\n",
      "997  2020-12-29    3723.03     3735.36  ...    36.00   12.87         Neutral\n",
      "\n",
      "[998 rows x 25 columns]\n",
      "WFC\n"
     ]
    },
    {
     "name": "stdout",
     "output_type": "stream",
     "text": [
      "           Date  OpenPrice  ClosePrice  ...  variant  pfizer  PriceDirection\n",
      "0    2017-01-12      54.60       54.80  ...     6.93    1.77        Negative\n",
      "1    2017-01-13      54.65       54.50  ...     8.69    1.50         Neutral\n",
      "2    2017-01-17      55.11       55.31  ...     4.16    2.64        Negative\n",
      "3    2017-01-18      54.80       53.78  ...     3.44    1.77        Positive\n",
      "4    2017-01-19      53.78       54.27  ...     6.80    2.10        Positive\n",
      "..          ...        ...         ...  ...      ...     ...             ...\n",
      "993  2020-12-22      29.50       29.55  ...    17.11   20.16        Positive\n",
      "994  2020-12-23      29.65       28.96  ...    10.03   20.58        Positive\n",
      "995  2020-12-24      29.29       30.35  ...     8.26   13.86        Negative\n",
      "996  2020-12-28      30.29       29.84  ...    15.00   11.55         Neutral\n",
      "997  2020-12-29      29.94       29.93  ...    36.00   12.87         Neutral\n",
      "\n",
      "[998 rows x 25 columns]\n",
      "WMT\n"
     ]
    },
    {
     "name": "stdout",
     "output_type": "stream",
     "text": [
      "           Date  OpenPrice  ClosePrice  ...  variant  pfizer  PriceDirection\n",
      "0    2017-01-12      68.20       68.53  ...     6.93    1.77        Negative\n",
      "1    2017-01-13      68.36       67.97  ...     8.69    1.50         Neutral\n",
      "2    2017-01-17      67.98       67.13  ...     4.16    2.64        Positive\n",
      "3    2017-01-18      68.09       68.42  ...     3.44    1.77        Negative\n",
      "4    2017-01-19      67.88       68.11  ...     6.80    2.10        Negative\n",
      "..          ...        ...         ...  ...      ...     ...             ...\n",
      "993  2020-12-22     145.62      145.97  ...    17.11   20.16        Negative\n",
      "994  2020-12-23     145.18      144.20  ...    10.03   20.58         Neutral\n",
      "995  2020-12-24     143.72      143.22  ...     8.26   13.86        Positive\n",
      "996  2020-12-28     143.54      143.50  ...    15.00   11.55        Positive\n",
      "997  2020-12-29     143.80      145.22  ...    36.00   12.87        Negative\n",
      "\n",
      "[998 rows x 25 columns]\n",
      "XOM\n"
     ]
    },
    {
     "name": "stdout",
     "output_type": "stream",
     "text": [
      "           Date  OpenPrice  ClosePrice  ...  variant  pfizer  PriceDirection\n",
      "0    2017-01-12      85.90       86.81  ...     6.93    1.77         Neutral\n",
      "1    2017-01-13      87.27       86.34  ...     8.69    1.50        Positive\n",
      "2    2017-01-17      86.27       86.35  ...     4.16    2.64        Negative\n",
      "3    2017-01-18      86.58       87.36  ...     3.44    1.77        Negative\n",
      "4    2017-01-19      87.06       86.28  ...     6.80    2.10        Negative\n",
      "..          ...        ...         ...  ...      ...     ...             ...\n",
      "993  2020-12-22      40.99       41.95  ...    17.11   20.16        Negative\n",
      "994  2020-12-23      41.63       41.24  ...    10.03   20.58        Positive\n",
      "995  2020-12-24      41.55       41.77  ...     8.26   13.86        Negative\n",
      "996  2020-12-28      41.65       41.60  ...    15.00   11.55         Neutral\n",
      "997  2020-12-29      41.69       41.74  ...    36.00   12.87        Negative\n",
      "\n",
      "[998 rows x 25 columns]\n"
     ]
    }
   ],
   "source": [
    "prev_row = None\n",
    "# Up to 0.2% deviation from close price from day before is considered Neutral movement\n",
    "neutral_percentage = 0.002\n",
    "\n",
    "for df in dfs:\n",
    "    processed_df = pd.DataFrame(columns = ['Date', 'OpenPrice', 'ClosePrice', 'Trend',\n",
    "                                           'VolumeTrend', 'Volatility', 'PriceDirection'])\n",
    "\n",
    "    # Creating additional feature columns for each dataframe\n",
    "    iterables = df.itertuples(index=True, name='Pandas')\n",
    "    n = df.columns.get_loc('Name') # Name column in df\n",
    "    df_name = df.iat[1, n] # Name of equity/etf\n",
    "\n",
    "    print(df_name)\n",
    "\n",
    "    # Iterating all rows in dataframe\n",
    "    # Starting from trend_days - to allow for trends going back to trend_days days\n",
    "    # Ending at end day - 2 to allow for day + 2 classification label\n",
    "    for i in range(trend_days, len(df) - 2 ):\n",
    "        open = df.columns.get_loc('Open')\n",
    "        close = df.columns.get_loc('Close')\n",
    "        volume = df.columns.get_loc('Volume')\n",
    "        df_date = df.columns.get_loc('Date')\n",
    "\n",
    "        # Prices per row\n",
    "        open_price = df.iat[i-1, open]\n",
    "        close_price = df.iat[i-1, close]\n",
    "\n",
    "        # Price Trend Handling\n",
    "        price_today = df.iat[i + 0, close]\n",
    "        price_tomorrow = df.iat[i + 1, close]\n",
    "        price_2days_after = df.iat[i + 2, close]\n",
    "\n",
    "        close_price_3d = (price_today + price_tomorrow + price_2days_after)/3\n",
    "        prev_close_price = df.iat[i - 1, close]\n",
    "        price_change = close_price_3d - prev_close_price\n",
    "\n",
    "        if price_change > (close_price_3d * neutral_percentage):\n",
    "            direction = 'Positive'\n",
    "        elif price_change < 0 and abs(price_change) > (close_price_3d * neutral_percentage):\n",
    "            direction = 'Negative'\n",
    "        else:\n",
    "            direction = 'Neutral'\n",
    "\n",
    "        # Price Difference Handling\n",
    "        pds = {}\n",
    "        initial_close = df.iat[i - (trend_days + 1), close]\n",
    "\n",
    "        for d in range(1, trend_days + 1):\n",
    "            key = \"d\"+ str(d) +\"_pd\"\n",
    "            value = df.iat[i - d, close] - initial_close\n",
    "            pds[key] = value\n",
    "\n",
    "        # Volume Difference Handling\n",
    "        vpds = {}\n",
    "        initial_vol = df.iat[i - (trend_days + 1), volume] + 1\n",
    "\n",
    "        for vd in range(1, trend_days + 1):\n",
    "            key = \"vd\"+ str(vd) +\"_pd\"\n",
    "            value = (df.iat[i - vd, volume] / initial_vol)\n",
    "            vpds[key] = value\n",
    "\n",
    "        date_ts = df.iat[i,df_date]\n",
    "\n",
    "        # volatility of prices window\n",
    "        volatility = np.std(list(pds.values()))\n",
    "\n",
    "        # finding trends of close and volume in terms of gradient (slope)\n",
    "        polyfit_x_axis = list(range(0, trend_days))\n",
    "        test_list = list(pds.values())\n",
    "        slope, intercept = np.polyfit(polyfit_x_axis, list(pds.values()), 1)\n",
    "        slopeVol, interceptVol = np.polyfit(polyfit_x_axis, list(vpds.values()), 1)\n",
    "\n",
    "        new_row = {'Date':date_ts, 'OpenPrice':open_price, 'ClosePrice':close_price,\n",
    "                   'Trend':slope, 'VolumeTrend':slopeVol, 'Volatility':volatility,\n",
    "                   'PriceDirection':direction}\n",
    "\n",
    "        #append row to the dataframe\n",
    "        processed_df = processed_df.append(new_row, ignore_index=True)\n",
    "\n",
    "    #pd.concat([processed_df, google_df], axis=1)\n",
    "    processed_df = pd.merge(processed_df,google_df,left_on='Date',right_on='Date')\n",
    "    # Re-sorting PriceDirection column\n",
    "    label = processed_df.pop('PriceDirection')\n",
    "    processed_df['PriceDirection'] = label\n",
    "\n",
    "    print(processed_df)\n",
    "    processed_df_coll[df_name] = processed_df\n"
   ]
  },
  {
   "cell_type": "markdown",
   "id": "5f4ab50b",
   "metadata": {
    "papermill": {
     "duration": 0.027973,
     "end_time": "2021-06-12T10:29:09.131717",
     "exception": false,
     "start_time": "2021-06-12T10:29:09.103744",
     "status": "completed"
    },
    "tags": []
   },
   "source": [
    "# Data Export"
   ]
  },
  {
   "cell_type": "code",
   "execution_count": 8,
   "id": "9a45ea29",
   "metadata": {
    "execution": {
     "iopub.execute_input": "2021-06-12T10:29:09.189421Z",
     "iopub.status.busy": "2021-06-12T10:29:09.188420Z",
     "iopub.status.idle": "2021-06-12T10:29:10.558205Z",
     "shell.execute_reply": "2021-06-12T10:29:10.559202Z"
    },
    "papermill": {
     "duration": 1.402645,
     "end_time": "2021-06-12T10:29:10.559202",
     "exception": false,
     "start_time": "2021-06-12T10:29:09.156557",
     "status": "completed"
    },
    "pycharm": {
     "name": "#%%\n"
    },
    "tags": []
   },
   "outputs": [
    {
     "name": "stdout",
     "output_type": "stream",
     "text": [
      "Export Complete!\n"
     ]
    }
   ],
   "source": [
    "for key, df in processed_df_coll.items():\n",
    "    df.to_csv(ROOT_DIR+'\\\\LSTM\\\\'+key+\"_\"+ str(trend_days) + \"dtrend_google_trd\" + trends_variant + \".csv\", index=False)\n",
    "\n",
    "print(\"Export Complete!\")\n"
   ]
  }
 ],
 "metadata": {
  "celltoolbar": "Tags",
  "kernelspec": {
   "display_name": "Python 3",
   "language": "python",
   "name": "python3"
  },
  "language_info": {
   "codemirror_mode": {
    "name": "ipython",
    "version": 3
   },
   "file_extension": ".py",
   "mimetype": "text/x-python",
   "name": "python",
   "nbconvert_exporter": "python",
   "pygments_lexer": "ipython3",
   "version": "3.7.10"
  },
  "papermill": {
   "default_parameters": {},
   "duration": 173.586292,
   "end_time": "2021-06-12T10:29:11.008773",
   "environment_variables": {},
   "exception": null,
   "input_path": "preprocessDataLSTM_Trends_3dprice_GoogleTrd.ipynb",
   "output_path": "out.ipynb",
   "parameters": {
    "trend_days": 7,
    "trend_file_name": "GoogleTrendsAdjusted.csv",
    "trends_variant": ""
   },
   "start_time": "2021-06-12T10:26:17.422481",
   "version": "2.3.3"
  }
 },
 "nbformat": 4,
 "nbformat_minor": 5
}