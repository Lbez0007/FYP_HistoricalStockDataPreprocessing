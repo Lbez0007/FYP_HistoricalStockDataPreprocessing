{
 "cells": [
  {
   "cell_type": "markdown",
   "id": "25a17d77",
   "metadata": {
    "collapsed": false,
    "papermill": {
     "duration": 0.0,
     "end_time": "2021-05-04T23:46:40.139954",
     "exception": false,
     "start_time": "2021-05-04T23:46:40.139954",
     "status": "completed"
    },
    "tags": []
   },
   "source": [
    "# Import Packages"
   ]
  },
  {
   "cell_type": "code",
   "execution_count": 1,
   "id": "f0f47dfb",
   "metadata": {
    "collapsed": false,
    "execution": {
     "iopub.execute_input": "2021-05-04T23:46:40.171171Z",
     "iopub.status.busy": "2021-05-04T23:46:40.171171Z",
     "iopub.status.idle": "2021-05-04T23:46:40.202414Z",
     "shell.execute_reply": "2021-05-04T23:46:40.202414Z"
    },
    "papermill": {
     "duration": 0.046871,
     "end_time": "2021-05-04T23:46:40.202414",
     "exception": false,
     "start_time": "2021-05-04T23:46:40.155543",
     "status": "completed"
    },
    "pycharm": {
     "name": "#%%\n"
    },
    "tags": []
   },
   "outputs": [],
   "source": [
    "import numpy as np\n",
    "import pandas as pd\n",
    "import glob\n",
    "import os"
   ]
  },
  {
   "cell_type": "markdown",
   "id": "0f19d736",
   "metadata": {
    "collapsed": false,
    "papermill": {
     "duration": 0.0,
     "end_time": "2021-05-04T23:46:40.218034",
     "exception": false,
     "start_time": "2021-05-04T23:46:40.218034",
     "status": "completed"
    },
    "tags": []
   },
   "source": [
    "# Import CSVs"
   ]
  },
  {
   "cell_type": "code",
   "execution_count": 2,
   "id": "fd58ae71",
   "metadata": {
    "collapsed": false,
    "execution": {
     "iopub.execute_input": "2021-05-04T23:46:40.249244Z",
     "iopub.status.busy": "2021-05-04T23:46:40.249244Z",
     "iopub.status.idle": "2021-05-04T23:46:40.436713Z",
     "shell.execute_reply": "2021-05-04T23:46:40.436713Z"
    },
    "papermill": {
     "duration": 0.20309,
     "end_time": "2021-05-04T23:46:40.436713",
     "exception": false,
     "start_time": "2021-05-04T23:46:40.233623",
     "status": "completed"
    },
    "pycharm": {
     "name": "#%%\n"
    },
    "tags": []
   },
   "outputs": [
    {
     "name": "stdout",
     "output_type": "stream",
     "text": [
      "C:\\Users\\Dell\\Documents\\B.Sc IT (Hons.) Computing and Business\\FYP - Luke Bezzina\\Code\\preprocessingHistoricalData/financial_data\n"
     ]
    }
   ],
   "source": [
    "# Current Path\n",
    "ROOT_DIR = os.path.abspath(os.curdir)\n",
    "path = ROOT_DIR + '/financial_data'\n",
    "print(path)\n",
    "\n",
    "csvfiles = glob.glob(path + \"/*.csv\")\n",
    "\n",
    "# Creating a dataframe for each CSV file\n",
    "dfs = [pd.read_csv(file) for file in csvfiles]"
   ]
  },
  {
   "cell_type": "markdown",
   "id": "ca2e7e29",
   "metadata": {
    "collapsed": false,
    "papermill": {
     "duration": 0.01561,
     "end_time": "2021-05-04T23:46:40.452323",
     "exception": false,
     "start_time": "2021-05-04T23:46:40.436713",
     "status": "completed"
    },
    "tags": []
   },
   "source": [
    "# New Dataframe"
   ]
  },
  {
   "cell_type": "code",
   "execution_count": 3,
   "id": "9a56ab7e",
   "metadata": {
    "collapsed": false,
    "execution": {
     "iopub.execute_input": "2021-05-04T23:46:40.467946Z",
     "iopub.status.busy": "2021-05-04T23:46:40.467946Z",
     "iopub.status.idle": "2021-05-04T23:46:40.483564Z",
     "shell.execute_reply": "2021-05-04T23:46:40.483564Z"
    },
    "papermill": {
     "duration": 0.015618,
     "end_time": "2021-05-04T23:46:40.483564",
     "exception": false,
     "start_time": "2021-05-04T23:46:40.467946",
     "status": "completed"
    },
    "pycharm": {
     "name": "#%%\n"
    },
    "tags": []
   },
   "outputs": [],
   "source": [
    "processed_df_coll = {}"
   ]
  },
  {
   "cell_type": "markdown",
   "id": "11f92822",
   "metadata": {
    "collapsed": false,
    "papermill": {
     "duration": 0.015623,
     "end_time": "2021-05-04T23:46:40.499187",
     "exception": false,
     "start_time": "2021-05-04T23:46:40.483564",
     "status": "completed"
    },
    "tags": []
   },
   "source": [
    "# Pre-Process"
   ]
  },
  {
   "cell_type": "code",
   "execution_count": 4,
   "id": "22f4a947",
   "metadata": {
    "collapsed": false,
    "execution": {
     "iopub.execute_input": "2021-05-04T23:46:40.577292Z",
     "iopub.status.busy": "2021-05-04T23:46:40.561696Z",
     "iopub.status.idle": "2021-05-04T23:48:08.519827Z",
     "shell.execute_reply": "2021-05-04T23:48:08.519827Z"
    },
    "papermill": {
     "duration": 88.005019,
     "end_time": "2021-05-04T23:48:08.519827",
     "exception": false,
     "start_time": "2021-05-04T23:46:40.514808",
     "status": "completed"
    },
    "pycharm": {
     "name": "#%%\n"
    },
    "tags": []
   },
   "outputs": [
    {
     "name": "stdout",
     "output_type": "stream",
     "text": [
      "AAL\n"
     ]
    },
    {
     "name": "stdout",
     "output_type": "stream",
     "text": [
      "            Date  OpenPrice  ClosePrice PriceDirection\n",
      "0     2017-01-04      47.28       46.30        Neutral\n",
      "1     2017-01-05      46.63       46.70       Negative\n",
      "2     2017-01-06      46.52       45.89       Positive\n",
      "3     2017-01-09      45.85       46.21       Positive\n",
      "4     2017-01-10      46.01       47.08       Positive\n",
      "...          ...        ...         ...            ...\n",
      "999   2020-12-22      15.70       16.10       Negative\n",
      "1000  2020-12-23      16.35       15.48       Positive\n",
      "1001  2020-12-24      15.52       15.89        Neutral\n",
      "1002  2020-12-28      16.04       15.66       Positive\n",
      "1003  2020-12-29      15.96       16.06       Negative\n",
      "\n",
      "[1004 rows x 4 columns]\n",
      "AAPL\n"
     ]
    },
    {
     "name": "stdout",
     "output_type": "stream",
     "text": [
      "            Date  OpenPrice  ClosePrice PriceDirection\n",
      "0     2017-01-04      28.95       29.04       Positive\n",
      "1     2017-01-05      28.96       29.00       Positive\n",
      "2     2017-01-06      28.98       29.15       Positive\n",
      "3     2017-01-09      29.20       29.48       Positive\n",
      "4     2017-01-10      29.49       29.75       Positive\n",
      "...          ...        ...         ...            ...\n",
      "999   2020-12-22     125.02      128.23       Positive\n",
      "1000  2020-12-23     131.61      131.88       Positive\n",
      "1001  2020-12-24     132.16      130.96       Positive\n",
      "1002  2020-12-28     131.32      131.97       Positive\n",
      "1003  2020-12-29     133.99      136.69       Negative\n",
      "\n",
      "[1004 rows x 4 columns]\n",
      "AMT\n"
     ]
    },
    {
     "name": "stdout",
     "output_type": "stream",
     "text": [
      "            Date  OpenPrice  ClosePrice PriceDirection\n",
      "0     04/01/2017     106.73      106.15       Negative\n",
      "1     05/01/2017     106.41      106.34       Negative\n",
      "2     06/01/2017     106.00      105.97       Negative\n",
      "3     09/01/2017     105.93      105.27       Negative\n",
      "4     10/01/2017     105.50      105.02       Negative\n",
      "...          ...        ...         ...            ...\n",
      "999   22/12/2020     219.13      219.78       Negative\n",
      "1000  23/12/2020     219.07      220.49       Negative\n",
      "1001  24/12/2020     221.50      217.40       Positive\n",
      "1002  28/12/2020     216.44      218.65       Positive\n",
      "1003  29/12/2020     218.87      221.07       Positive\n",
      "\n",
      "[1004 rows x 4 columns]\n",
      "AVY\n"
     ]
    },
    {
     "name": "stdout",
     "output_type": "stream",
     "text": [
      "            Date  OpenPrice  ClosePrice PriceDirection\n",
      "0     2017-01-04      70.76       70.14       Positive\n",
      "1     2017-01-05      70.45       72.14        Neutral\n",
      "2     2017-01-06      72.00       71.43       Positive\n",
      "3     2017-01-09      72.28       72.40       Positive\n",
      "4     2017-01-10      72.48       72.56        Neutral\n",
      "...          ...        ...         ...            ...\n",
      "999   2020-12-22     150.69      152.08       Positive\n",
      "1000  2020-12-23     151.37      151.76       Positive\n",
      "1001  2020-12-24     152.67      152.71       Positive\n",
      "1002  2020-12-28     153.57      153.40        Neutral\n",
      "1003  2020-12-29     155.00      153.94        Neutral\n",
      "\n",
      "[1004 rows x 4 columns]\n",
      "AWK\n"
     ]
    },
    {
     "name": "stdout",
     "output_type": "stream",
     "text": [
      "            Date  OpenPrice  ClosePrice PriceDirection\n",
      "0     04/01/2017      72.37       72.25       Positive\n",
      "1     05/01/2017      72.49       72.81       Negative\n",
      "2     06/01/2017      72.69       72.93       Negative\n",
      "3     09/01/2017      72.65       72.84       Negative\n",
      "4     10/01/2017      72.88       71.35       Negative\n",
      "...          ...        ...         ...            ...\n",
      "999   22/12/2020     148.95      149.11       Negative\n",
      "1000  23/12/2020     149.34      148.06       Positive\n",
      "1001  24/12/2020     148.95      147.41       Positive\n",
      "1002  28/12/2020     147.88      149.14       Positive\n",
      "1003  29/12/2020     149.59      149.65       Positive\n",
      "\n",
      "[1004 rows x 4 columns]\n",
      "BA\n"
     ]
    },
    {
     "name": "stdout",
     "output_type": "stream",
     "text": [
      "            Date  OpenPrice  ClosePrice PriceDirection\n",
      "0     2017-01-04     156.30      156.97       Positive\n",
      "1     2017-01-05     157.81      158.62        Neutral\n",
      "2     2017-01-06     158.41      158.71        Neutral\n",
      "3     2017-01-09     158.98      159.10        Neutral\n",
      "4     2017-01-10     159.00      158.32       Positive\n",
      "...          ...        ...         ...            ...\n",
      "999   2020-12-22     212.00      219.31       Negative\n",
      "1000  2020-12-23     223.16      218.78       Negative\n",
      "1001  2020-12-24     219.75      219.69       Negative\n",
      "1002  2020-12-28     219.62      217.15       Negative\n",
      "1003  2020-12-29     217.75      216.09        Neutral\n",
      "\n",
      "[1004 rows x 4 columns]\n",
      "BAC\n"
     ]
    },
    {
     "name": "stdout",
     "output_type": "stream",
     "text": [
      "            Date  OpenPrice  ClosePrice PriceDirection\n",
      "0     2017-01-04      22.60       22.53       Positive\n",
      "1     2017-01-05      22.72       22.95       Negative\n",
      "2     2017-01-06      22.82       22.68        Neutral\n",
      "3     2017-01-09      22.78       22.68       Positive\n",
      "4     2017-01-10      22.51       22.55       Positive\n",
      "...          ...        ...         ...            ...\n",
      "999   2020-12-22      28.97       29.74        Neutral\n",
      "1000  2020-12-23      29.78       29.21       Positive\n",
      "1001  2020-12-24      29.38       30.05        Neutral\n",
      "1002  2020-12-28      30.27       29.96       Positive\n",
      "1003  2020-12-29      30.17       30.13        Neutral\n",
      "\n",
      "[1004 rows x 4 columns]\n",
      "CCL\n"
     ]
    },
    {
     "name": "stdout",
     "output_type": "stream",
     "text": [
      "            Date  OpenPrice  ClosePrice PriceDirection\n",
      "0     04/01/2017      52.23       52.14       Positive\n",
      "1     05/01/2017      52.45       52.82       Positive\n",
      "2     06/01/2017      53.05       53.71       Positive\n",
      "3     09/01/2017      53.59       53.65       Positive\n",
      "4     10/01/2017      53.37       53.69       Positive\n",
      "...          ...        ...         ...            ...\n",
      "999   22/12/2020      20.22       21.06       Negative\n",
      "1000  23/12/2020      21.07       19.81       Positive\n",
      "1001  24/12/2020      20.12       20.94       Positive\n",
      "1002  28/12/2020      20.98       20.84       Positive\n",
      "1003  29/12/2020      21.20       21.71       Negative\n",
      "\n",
      "[1004 rows x 4 columns]\n",
      "CNP\n"
     ]
    },
    {
     "name": "stdout",
     "output_type": "stream",
     "text": [
      "            Date  OpenPrice  ClosePrice PriceDirection\n",
      "0     2017-01-04      24.72       24.59       Positive\n",
      "1     2017-01-05      24.70       24.81       Positive\n",
      "2     2017-01-06      24.79       24.81       Positive\n",
      "3     2017-01-09      24.80       25.36       Negative\n",
      "4     2017-01-10      25.41       24.88       Positive\n",
      "...          ...        ...         ...            ...\n",
      "999   2020-12-22      21.61       21.05       Positive\n",
      "1000  2020-12-23      21.02       20.82       Positive\n",
      "1001  2020-12-24      21.06       21.50       Negative\n",
      "1002  2020-12-28      21.47       21.58       Negative\n",
      "1003  2020-12-29      21.61       21.41       Positive\n",
      "\n",
      "[1004 rows x 4 columns]\n",
      "EQR\n"
     ]
    },
    {
     "name": "stdout",
     "output_type": "stream",
     "text": [
      "            Date  OpenPrice  ClosePrice PriceDirection\n",
      "0     2017-01-04      64.87       63.63       Positive\n",
      "1     2017-01-05      63.84       64.28       Positive\n",
      "2     2017-01-06      63.97       65.15       Negative\n",
      "3     2017-01-09      64.97       65.38       Negative\n",
      "4     2017-01-10      65.26       64.47       Negative\n",
      "...          ...        ...         ...            ...\n",
      "999   2020-12-22      56.70       57.86       Negative\n",
      "1000  2020-12-23      57.71       57.85       Positive\n",
      "1001  2020-12-24      58.00       57.07       Positive\n",
      "1002  2020-12-28      57.48       58.20       Positive\n",
      "1003  2020-12-29      58.32       59.42       Negative\n",
      "\n",
      "[1004 rows x 4 columns]\n",
      "F\n"
     ]
    },
    {
     "name": "stdout",
     "output_type": "stream",
     "text": [
      "            Date  OpenPrice  ClosePrice PriceDirection\n",
      "0     2017-01-04      12.20       12.59       Positive\n",
      "1     2017-01-05      12.77       13.17       Negative\n",
      "2     2017-01-06      13.21       12.77        Neutral\n",
      "3     2017-01-09      12.80       12.76       Negative\n",
      "4     2017-01-10      12.79       12.63       Positive\n",
      "...          ...        ...         ...            ...\n",
      "999   2020-12-22       8.87        8.93       Negative\n",
      "1000  2020-12-23       8.98        8.79       Positive\n",
      "1001  2020-12-24       8.81        8.99       Negative\n",
      "1002  2020-12-28       9.01        8.86        Neutral\n",
      "1003  2020-12-29       8.92        8.89       Negative\n",
      "\n",
      "[1004 rows x 4 columns]\n",
      "FOX\n"
     ]
    },
    {
     "name": "stdout",
     "output_type": "stream",
     "text": [
      "           Date  OpenPrice  ClosePrice PriceDirection\n",
      "0    2019-03-15      39.50       39.96       Positive\n",
      "1    2019-03-18      40.55       41.02       Negative\n",
      "2    2019-03-19      41.73       40.86       Negative\n",
      "3    2019-03-20      41.40       39.55       Negative\n",
      "4    2019-03-21      39.85       37.60        Neutral\n",
      "..          ...        ...         ...            ...\n",
      "448  2020-12-22      27.53       27.39       Positive\n",
      "449  2020-12-23      27.35       26.98       Positive\n",
      "450  2020-12-24      27.08       27.75       Positive\n",
      "451  2020-12-28      27.75       28.00       Positive\n",
      "452  2020-12-29      28.05       28.88       Negative\n",
      "\n",
      "[453 rows x 4 columns]\n",
      "HFC\n"
     ]
    },
    {
     "name": "stdout",
     "output_type": "stream",
     "text": [
      "            Date  OpenPrice  ClosePrice PriceDirection\n",
      "0     04/01/2017      33.21       33.57       Negative\n",
      "1     05/01/2017      34.13       34.30       Negative\n",
      "2     06/01/2017      34.19       33.75       Negative\n",
      "3     09/01/2017      33.78       32.01       Negative\n",
      "4     10/01/2017      31.71       30.95       Negative\n",
      "...          ...        ...         ...            ...\n",
      "999   22/12/2020      24.18       24.81       Positive\n",
      "1000  23/12/2020      24.65       24.32       Positive\n",
      "1001  24/12/2020      24.66       25.45       Negative\n",
      "1002  28/12/2020      25.40       25.35       Positive\n",
      "1003  29/12/2020      25.55       25.22       Positive\n",
      "\n",
      "[1004 rows x 4 columns]\n",
      "JNJ\n"
     ]
    },
    {
     "name": "stdout",
     "output_type": "stream",
     "text": [
      "            Date  OpenPrice  ClosePrice PriceDirection\n",
      "0     04/01/2017     115.78      115.84       Positive\n",
      "1     05/01/2017     115.50      115.65       Positive\n",
      "2     06/01/2017     116.00      116.86       Negative\n",
      "3     09/01/2017     116.67      116.30       Negative\n",
      "4     10/01/2017     116.35      116.28       Negative\n",
      "...          ...        ...         ...            ...\n",
      "999   22/12/2020     152.01      153.02       Negative\n",
      "1000  23/12/2020     152.30      152.72        Neutral\n",
      "1001  24/12/2020     153.01      151.94       Positive\n",
      "1002  28/12/2020     151.85      152.47       Positive\n",
      "1003  29/12/2020     153.39      153.19       Positive\n",
      "\n",
      "[1004 rows x 4 columns]\n",
      "MSFT\n"
     ]
    },
    {
     "name": "stdout",
     "output_type": "stream",
     "text": [
      "            Date  OpenPrice  ClosePrice PriceDirection\n",
      "0     2017-01-04      62.79       62.58        Neutral\n",
      "1     2017-01-05      62.48       62.30       Positive\n",
      "2     2017-01-06      62.19       62.30       Positive\n",
      "3     2017-01-09      62.30       62.84        Neutral\n",
      "4     2017-01-10      62.76       62.64       Positive\n",
      "...          ...        ...         ...            ...\n",
      "999   2020-12-22     217.60      222.59        Neutral\n",
      "1000  2020-12-23     222.68      223.94       Negative\n",
      "1001  2020-12-24     223.25      221.02       Positive\n",
      "1002  2020-12-28     221.42      222.75       Positive\n",
      "1003  2020-12-29     224.50      224.96       Negative\n",
      "\n",
      "[1004 rows x 4 columns]\n",
      "NFLX\n"
     ]
    },
    {
     "name": "stdout",
     "output_type": "stream",
     "text": [
      "            Date  OpenPrice  ClosePrice PriceDirection\n",
      "0     2017-01-04     124.96      127.49       Positive\n",
      "1     2017-01-05     127.49      129.41       Positive\n",
      "2     2017-01-06     129.22      131.81       Negative\n",
      "3     2017-01-09     132.08      131.07       Negative\n",
      "4     2017-01-10     131.48      130.95       Negative\n",
      "...          ...        ...         ...            ...\n",
      "999   2020-12-22     530.37      528.91       Negative\n",
      "1000  2020-12-23     528.00      527.33       Negative\n",
      "1001  2020-12-24     524.76      514.48       Positive\n",
      "1002  2020-12-28     515.12      513.97       Positive\n",
      "1003  2020-12-29     516.26      519.12       Positive\n",
      "\n",
      "[1004 rows x 4 columns]\n",
      "PFE\n"
     ]
    },
    {
     "name": "stdout",
     "output_type": "stream",
     "text": [
      "            Date  OpenPrice  ClosePrice PriceDirection\n",
      "0     2017-01-04      32.70       33.00       Positive\n",
      "1     2017-01-05      33.13       33.29       Positive\n",
      "2     2017-01-06      33.37       33.61       Negative\n",
      "3     2017-01-09      33.66       33.48       Negative\n",
      "4     2017-01-10      33.43       33.47       Negative\n",
      "...          ...        ...         ...            ...\n",
      "999   2020-12-22      37.24       37.38       Negative\n",
      "1000  2020-12-23      37.21       36.74       Positive\n",
      "1001  2020-12-24      37.01       37.44       Negative\n",
      "1002  2020-12-28      37.40       37.27       Negative\n",
      "1003  2020-12-29      37.39       36.82        Neutral\n",
      "\n",
      "[1004 rows x 4 columns]\n",
      "PKG\n"
     ]
    },
    {
     "name": "stdout",
     "output_type": "stream",
     "text": [
      "            Date  OpenPrice  ClosePrice PriceDirection\n",
      "0     04/01/2017      85.16       85.00       Positive\n",
      "1     05/01/2017      85.44       86.37       Positive\n",
      "2     06/01/2017      86.37       85.33       Positive\n",
      "3     09/01/2017      85.37       87.20       Positive\n",
      "4     10/01/2017      86.90       87.77        Neutral\n",
      "...          ...        ...         ...            ...\n",
      "999   22/12/2020     133.32      133.77       Positive\n",
      "1000  23/12/2020     133.62      133.81       Positive\n",
      "1001  24/12/2020     134.12      135.73       Positive\n",
      "1002  28/12/2020     136.27      136.10       Positive\n",
      "1003  29/12/2020     137.94      136.78        Neutral\n",
      "\n",
      "[1004 rows x 4 columns]\n",
      "PM\n"
     ]
    },
    {
     "name": "stdout",
     "output_type": "stream",
     "text": [
      "            Date  OpenPrice  ClosePrice PriceDirection\n",
      "0     2017-01-04      91.79       91.23        Neutral\n",
      "1     2017-01-05      90.53       90.42       Positive\n",
      "2     2017-01-06      90.69       91.13        Neutral\n",
      "3     2017-01-09      91.39       91.84       Negative\n",
      "4     2017-01-10      91.09       91.31       Negative\n",
      "...          ...        ...         ...            ...\n",
      "999   2020-12-22      84.53       84.17       Negative\n",
      "1000  2020-12-23      82.53       82.19       Positive\n",
      "1001  2020-12-24      82.45       82.20        Neutral\n",
      "1002  2020-12-28      82.16       82.51       Negative\n",
      "1003  2020-12-29      82.81       82.49       Negative\n",
      "\n",
      "[1004 rows x 4 columns]\n",
      "S&P500\n"
     ]
    },
    {
     "name": "stdout",
     "output_type": "stream",
     "text": [
      "            Date  OpenPrice  ClosePrice PriceDirection\n",
      "0     2017-01-04    2251.57     2257.83       Positive\n",
      "1     2017-01-05    2261.60     2270.75        Neutral\n",
      "2     2017-01-06    2268.18     2269.00        Neutral\n",
      "3     2017-01-09    2271.14     2276.98       Negative\n",
      "4     2017-01-10    2273.59     2268.90        Neutral\n",
      "...          ...        ...         ...            ...\n",
      "999   2020-12-22    3684.28     3694.92        Neutral\n",
      "1000  2020-12-23    3698.08     3687.26       Positive\n",
      "1001  2020-12-24    3693.42     3690.01       Positive\n",
      "1002  2020-12-28    3694.03     3703.06       Positive\n",
      "1003  2020-12-29    3723.03     3735.36        Neutral\n",
      "\n",
      "[1004 rows x 4 columns]\n",
      "WFC\n"
     ]
    },
    {
     "name": "stdout",
     "output_type": "stream",
     "text": [
      "            Date  OpenPrice  ClosePrice PriceDirection\n",
      "0     2017-01-04      55.67       56.00       Negative\n",
      "1     2017-01-05      56.16       56.05       Negative\n",
      "2     2017-01-06      55.49       55.18       Negative\n",
      "3     2017-01-09      55.26       55.04       Negative\n",
      "4     2017-01-10      54.68       54.24       Positive\n",
      "...          ...        ...         ...            ...\n",
      "999   2020-12-22      29.50       29.55       Positive\n",
      "1000  2020-12-23      29.65       28.96       Positive\n",
      "1001  2020-12-24      29.29       30.35       Negative\n",
      "1002  2020-12-28      30.29       29.84        Neutral\n",
      "1003  2020-12-29      29.94       29.93        Neutral\n",
      "\n",
      "[1004 rows x 4 columns]\n",
      "WMT\n"
     ]
    },
    {
     "name": "stdout",
     "output_type": "stream",
     "text": [
      "            Date  OpenPrice  ClosePrice PriceDirection\n",
      "0     2017-01-04      69.24       68.66       Positive\n",
      "1     2017-01-05      68.66       69.06       Negative\n",
      "2     2017-01-06      68.43       69.21       Negative\n",
      "3     2017-01-09      68.41       68.26       Positive\n",
      "4     2017-01-10      68.33       68.71       Negative\n",
      "...          ...        ...         ...            ...\n",
      "999   2020-12-22     145.62      145.97       Negative\n",
      "1000  2020-12-23     145.18      144.20        Neutral\n",
      "1001  2020-12-24     143.72      143.22       Positive\n",
      "1002  2020-12-28     143.54      143.50       Positive\n",
      "1003  2020-12-29     143.80      145.22       Negative\n",
      "\n",
      "[1004 rows x 4 columns]\n",
      "XOM\n"
     ]
    },
    {
     "name": "stdout",
     "output_type": "stream",
     "text": [
      "            Date  OpenPrice  ClosePrice PriceDirection\n",
      "0     2017-01-04      90.94       90.89       Negative\n",
      "1     2017-01-05      91.12       89.89       Negative\n",
      "2     2017-01-06      90.19       88.55       Negative\n",
      "3     2017-01-09      88.79       88.50       Negative\n",
      "4     2017-01-10      88.22       87.04       Negative\n",
      "...          ...        ...         ...            ...\n",
      "999   2020-12-22      40.99       41.95       Negative\n",
      "1000  2020-12-23      41.63       41.24       Positive\n",
      "1001  2020-12-24      41.55       41.77       Negative\n",
      "1002  2020-12-28      41.65       41.60        Neutral\n",
      "1003  2020-12-29      41.69       41.74       Negative\n",
      "\n",
      "[1004 rows x 4 columns]\n"
     ]
    }
   ],
   "source": [
    "prev_row = None\n",
    "# Up to 0.2% deviation from close price from day before is considered Neutral movement\n",
    "neutral_percentage = 0.002\n",
    "\n",
    "for df in dfs:\n",
    "    processed_df = pd.DataFrame(columns = ['Date', 'OpenPrice', 'ClosePrice', 'PriceDirection'])\n",
    "\n",
    "    # Creating additional feature columns for each dataframe\n",
    "    iterables = df.itertuples(index=True, name='Pandas')\n",
    "    n = df.columns.get_loc('Name') # Name column in df\n",
    "    df_name = df.iat[1, n] # Name of equity/etf\n",
    "\n",
    "    print(df_name)\n",
    "\n",
    "    # Iterating all rows in dataframe\n",
    "    # Ending at end day - 2 to allow for day + 2 classification label\n",
    "    for i in range(1, len(df) - 2 ):\n",
    "        open = df.columns.get_loc('Open')\n",
    "        close = df.columns.get_loc('Close')\n",
    "        volume = df.columns.get_loc('Volume')\n",
    "        df_date = df.columns.get_loc('Date')\n",
    "\n",
    "        # Prices per row\n",
    "        open_price = df.iat[i-1, open]\n",
    "        close_price = df.iat[i-1, close]\n",
    "\n",
    "        # Price Trend Handling\n",
    "        price_today = df.iat[i + 0, close]\n",
    "        price_tomorrow = df.iat[i + 1, close]\n",
    "        price_2days_after = df.iat[i + 2, close]\n",
    "\n",
    "        close_price_3d = (price_today + price_tomorrow + price_2days_after)/3\n",
    "        prev_close_price = df.iat[i - 1, close]\n",
    "        price_change = close_price_3d - prev_close_price\n",
    "\n",
    "        if price_change > (close_price_3d * neutral_percentage):\n",
    "            direction = 'Positive'\n",
    "        elif price_change < 0 and abs(price_change) > (close_price_3d * neutral_percentage):\n",
    "            direction = 'Negative'\n",
    "        else:\n",
    "            direction = 'Neutral'\n",
    "\n",
    "        date_ts = df.iat[i,df_date]\n",
    "\n",
    "        new_row = {'Date':date_ts, 'OpenPrice':open_price, 'ClosePrice':close_price,\n",
    "                   'PriceDirection':direction}\n",
    "\n",
    "        #append row to the dataframe\n",
    "        processed_df = processed_df.append(new_row, ignore_index=True)\n",
    "\n",
    "    print(processed_df)\n",
    "    processed_df_coll[df_name] = processed_df\n"
   ]
  },
  {
   "cell_type": "markdown",
   "id": "31be278f",
   "metadata": {
    "collapsed": false,
    "papermill": {
     "duration": 0.01562,
     "end_time": "2021-05-04T23:48:08.550985",
     "exception": false,
     "start_time": "2021-05-04T23:48:08.535365",
     "status": "completed"
    },
    "tags": []
   },
   "source": [
    "# Data Export"
   ]
  },
  {
   "cell_type": "code",
   "execution_count": 5,
   "id": "da022b1a",
   "metadata": {
    "collapsed": false,
    "execution": {
     "iopub.execute_input": "2021-05-04T23:48:08.582227Z",
     "iopub.status.busy": "2021-05-04T23:48:08.582227Z",
     "iopub.status.idle": "2021-05-04T23:48:08.785605Z",
     "shell.execute_reply": "2021-05-04T23:48:08.785605Z"
    },
    "papermill": {
     "duration": 0.23462,
     "end_time": "2021-05-04T23:48:08.785605",
     "exception": false,
     "start_time": "2021-05-04T23:48:08.550985",
     "status": "completed"
    },
    "pycharm": {
     "name": "#%%\n"
    },
    "tags": []
   },
   "outputs": [
    {
     "name": "stdout",
     "output_type": "stream",
     "text": [
      "Export Complete!\n"
     ]
    }
   ],
   "source": [
    "for key, df in processed_df_coll.items():\n",
    "    df.to_csv(ROOT_DIR+'\\\\LSTM\\\\'+key+\".csv\", index=False)\n",
    "\n",
    "print(\"Export Complete!\")"
   ]
  },
  {
   "cell_type": "code",
   "execution_count": null,
   "id": "f1131c0f",
   "metadata": {
    "collapsed": true,
    "papermill": {
     "duration": 0.015621,
     "end_time": "2021-05-04T23:48:08.816836",
     "exception": false,
     "start_time": "2021-05-04T23:48:08.801215",
     "status": "completed"
    },
    "tags": []
   },
   "outputs": [],
   "source": []
  }
 ],
 "metadata": {
  "kernelspec": {
   "display_name": "Python 3",
   "language": "python",
   "name": "python3"
  },
  "language_info": {
   "codemirror_mode": {
    "name": "ipython",
    "version": 3
   },
   "file_extension": ".py",
   "mimetype": "text/x-python",
   "name": "python",
   "nbconvert_exporter": "python",
   "pygments_lexer": "ipython3",
   "version": "3.7.10"
  },
  "papermill": {
   "default_parameters": {},
   "duration": 92.589759,
   "end_time": "2021-05-04T23:48:09.176215",
   "environment_variables": {},
   "exception": null,
   "input_path": "preprocessDataLSTM_3dprice.ipynb",
   "output_path": "out.ipynb",
   "parameters": {},
   "start_time": "2021-05-04T23:46:36.586456",
   "version": "2.3.3"
  }
 },
 "nbformat": 4,
 "nbformat_minor": 5
}